{
 "cells": [
  {
   "cell_type": "code",
   "execution_count": 86,
   "outputs": [],
   "source": [
    "import sys\n",
    "import subprocess\n",
    "import pandas as pd\n",
    "from io import StringIO\n",
    "import warnings"
   ],
   "metadata": {
    "collapsed": false,
    "pycharm": {
     "name": "#%%\n"
    }
   }
  },
  {
   "cell_type": "markdown",
   "source": [
    "# Using IgBlast with Python\n",
    "\n",
    "Since IgBlast [documentation](https://ncbi.github.io/igblast/cook/How-to-set-up.html) does not have great details on the database setup, and there are a lot of questions on the forum regarding to the issue **[internal_data] not found**, I wrote this short guide to in case it might be helpful.\n",
    "\n",
    "This first part of this guide applies to installation of IgBlast and IMGT human germline sequence database. The second part applies to calling the IgBlast executable inside Jupyter notebook and converting some of the results to Pandas dataframe.\n",
    "\n",
    "This repository contains executables and data files from `ncbi-igblast-1.17.0-x64-macosx.tar.gz` (latest Mac version as of Jan 9, 2021). It also has the IGHV, IGKV, and IGLV germline protein database obtained from IMGT (latest as of Jan 9, 2021)."
   ],
   "metadata": {
    "collapsed": false,
    "pycharm": {
     "name": "#%% md\n"
    }
   }
  },
  {
   "cell_type": "markdown",
   "source": [
    "# Download IgBlast\n",
    "\n",
    "Download executable here: ftp://ftp.ncbi.nih.gov/blast/executables/igblast/release/LATEST\n",
    "\n",
    "Mac: Download the **ncbi-igblast-1.17.0-x64-macosx.tar.gz** or the latest version(NOT the **dmg** file) and unzip it in your destination folder.\n",
    "\n",
    "Then:\n",
    "1. Create jupyter notebook inside the **igblast** folder.\n",
    "2. Create an empty folder called **database** inside the **igblast** folder\n",
    "\n",
    "It should have a structure similar to what's shown below:\n",
    "```\n",
    "----igblast\n",
    "  --bin\n",
    "  --internal_data\n",
    "  --optional_file\n",
    "  --ChangeLog\n",
    "  --LICENSE\n",
    "  --ncbi_pakacage_info\n",
    "  --README\n",
    "  --database\n",
    "  --Using IgBlast.ipynb\n",
    "```"
   ],
   "metadata": {
    "collapsed": false,
    "pycharm": {
     "name": "#%% md\n"
    }
   }
  },
  {
   "cell_type": "markdown",
   "source": [
    "# Download IMGT germline sequence\n",
    "\n",
    "1. Germline seuqence can be found [here](http://www.imgt.org/vquest/refseqh.html#VQUEST). Both nucleic acid and protein sequences are available. If you\n",
    "\n",
    "  Note that the for `blastp` (protein blast), only V region alignment is provided by IgBlast.\n",
    "\n",
    "  For example, if you want to download the amino acid germline sequence for human IgHV, you can move to this section on the page, and click on **Human** under **F+ORF+in-frame P**. Note that that you can also select **Human** under **F+ORF+in-frame P with IMGT gaps** (sequence with gaps), but after cleaning the results will be the same.\n",
    "\n",
    "![pic](https://res.cloudinary.com/dpfqlyh21/image/upload/v1610205449/github/Screen_Shot_2021-01-09_at_10.16.35_AM_epxx8o.png)\n",
    "\n",
    "2. Once you click on the species in the page above, you will be directed to a page with a list of fasta sequences. Copy the fasta sequences.\n",
    "\n",
    "For example, if we want to set up a database for human IGKV germline sequence, we would copy all fasta sequences by locating **IGKV** row and column **F+ORF+in-frame P** in table above, then click on the **Human** link. As of now, there is 108 sequences (example of the first 2 are shown below), and you need to copy all of them.\n",
    "\n",
    "```\n",
    ">V01577|IGKV1-12*01|Homo sapiens|F|V-REGION|1360..1646|287 nt|1| | | |95 AA|95+0=95| | |\n",
    "DIQMTQSPSSVSASVGDRVTITCRASQGISSWLAWYQQKPGKAPKLLIYAASSLQSGVPS\n",
    "RFSGSGSGTDFTLTISSLQPEDFATYYCQQANSFP\n",
    ">V01576|IGKV1-12*02|Homo sapiens|F|V-REGION|1361..1647|287 nt|1| | | |95 AA|95+0=95| | |\n",
    "DIQMTQSPSSVSASVGDRVTITCRASQGISSWLAWYQQKPGKAPKLLIYAASSLQSGVPS\n",
    "......\n",
    "......\n",
    "```\n",
    "\n",
    "2. Inside the **database** folder you created in the 1st step, create another folder called **Homo_sapiens** and **Homo_sapiens_clean**  Inside each of these 2 folders, create a folder called **IG_dna** and a folder called **IG_prot**. See screenshot below:\n",
    "\n",
    "  ![](https://res.cloudinary.com/dpfqlyh21/image/upload/v1610206933/github/Screen_Shot_2021-01-09_at_10.42.06_AM_gzos8t.png)\n",
    "\n",
    "   These folders are empty for now.\n",
    "\n",
    "3. Inside the **IG_prot** folder under **Homo_sapiens** folder, create a text file and paste the fasta sequences of IGKV in there.\n",
    "\n",
    "  Do NOT keep the .txt or .fasta extension for the text file. (otherwise Igblast automatically adds other extensions after your current extension, and your database name will look weird).\n",
    "\n",
    "  Here is what the directory structure looks like. Note that the text files do not have any extension (.txt or .fasta)\n",
    "  ![](https://res.cloudinary.com/dpfqlyh21/image/upload/v1610206393/github/Screen_Shot_2021-01-09_at_10.32.53_AM_gbnmty.png)\n",
    "\n",
    "  Here is a screenshot of what the **IGKV** text file looks like:\n",
    "\n",
    "3. If you have any DNA germline sequence, you can use similar method and copy them to **IG_dna** folder\n",
    "  ![](https://res.cloudinary.com/dpfqlyh21/image/upload/v1610206561/github/Screen_Shot_2021-01-09_at_10.35.49_AM_rorzbv.png)"
   ],
   "metadata": {
    "collapsed": false,
    "pycharm": {
     "name": "#%% md\n"
    }
   }
  },
  {
   "cell_type": "markdown",
   "source": [
    "# Cleaning the IMGT germline sequence files\n",
    "\n",
    "You can execute the command through terminal, or using the python script below."
   ],
   "metadata": {
    "collapsed": false,
    "pycharm": {
     "name": "#%% md\n"
    }
   }
  },
  {
   "cell_type": "markdown",
   "source": [
    "## Method 1: Use terminal\n",
    "\n",
    "Open a terminal at the **igblast** folder. Then type\n",
    "```\n",
    "bin/edit_imgt_file.pl database/Homo_sapiens/IG_prot/IGKV > database/Homo_sapiens_clean/IG_prot/IGHV_KV_clean\n",
    "```\n",
    "The above line cleans up the IGKV text file you just made, and save the cleaned file inside **Homo_sapiens_clean/IG_prot** folder.\n",
    "\n",
    "After cleaning, the id, name, and description of the original IMGT fasta sequences are truncated to keep only the allele type. An example of cleaned sequence:\n",
    "\n",
    "![](https://res.cloudinary.com/dpfqlyh21/image/upload/v1610207198/github/Screen_Shot_2021-01-09_at_10.46.29_AM_mykbcn.png)"
   ],
   "metadata": {
    "collapsed": false,
    "pycharm": {
     "name": "#%% md\n",
     "is_executing": true
    }
   }
  },
  {
   "cell_type": "markdown",
   "source": [
    "## Method 2: Use python"
   ],
   "metadata": {
    "collapsed": false,
    "pycharm": {
     "name": "#%% md\n"
    }
   }
  },
  {
   "cell_type": "code",
   "execution_count": 20,
   "outputs": [
    {
     "data": {
      "text/plain": "<subprocess.Popen at 0x7fc81f6c0040>"
     },
     "execution_count": 20,
     "metadata": {},
     "output_type": "execute_result"
    }
   ],
   "source": [
    "# cleaning up IGKV IMGT germline sequence file\n",
    "input_imgt_ref = 'database/Homo_sapiens/IG_prot/IGKV'\n",
    "output_imgt_ref = 'database/Homo_sapiens_clean/IG_prot/IGKV_clean'\n",
    "\n",
    "cmd = ['bin/edit_imgt_file.pl', input_imgt_ref , '>', output_imgt_ref]\n",
    "\n",
    "# display result (and any error) in notebook. No file will be saved\n",
    "# subprocess.run(cmd.split(), capture_output=True)\n",
    "\n",
    "# save cmd output to file\n",
    "fh = open(output_imgt_ref, 'w')\n",
    "subprocess.Popen(cmd, stdout=fh)"
   ],
   "metadata": {
    "collapsed": false,
    "pycharm": {
     "name": "#%%\n"
    }
   }
  },
  {
   "cell_type": "markdown",
   "source": [
    "# Make Database\n",
    "\n",
    "We need to parse the cleaned germline sequence file to database. There are 2 ways to do it. In terminal or in Python.\n",
    "\n",
    "The basic syntax for DNA and protein seuqence is:\n",
    "```\n",
    "bin/makeblastdb -parse_seqids -dbtype nucl -in my_seq_file\n",
    "bin/makeblastdb -parse_seqids -dbtype prot -in my_seq_file\n",
    "```"
   ],
   "metadata": {
    "collapsed": false,
    "pycharm": {
     "name": "#%% md\n"
    }
   }
  },
  {
   "cell_type": "markdown",
   "source": [
    "## Method 1: Use terminal\n",
    "\n",
    "To parse the IGKV protein germline seuqences, open a terminal at the **igblast** folder. Then type\n",
    "```\n",
    "bin/makeblastdb -parse_seqids -dbtype prot -in database/Homo_sapiens_clean/IG_prot/IGKV_clean\n",
    "```\n",
    "\n",
    "Igblast will create a variety of files in the same directory as the cleaned germline sequence text file. A screenshot is shown below:\n",
    "![](https://res.cloudinary.com/dpfqlyh21/image/upload/v1610207632/github/Screen_Shot_2021-01-09_at_10.53.25_AM_sktrlq.png)"
   ],
   "metadata": {
    "collapsed": false,
    "pycharm": {
     "name": "#%% md\n"
    }
   }
  },
  {
   "cell_type": "markdown",
   "source": [
    "## Method 2: Use Python"
   ],
   "metadata": {
    "collapsed": false,
    "pycharm": {
     "name": "#%% md\n"
    }
   }
  },
  {
   "cell_type": "code",
   "execution_count": 43,
   "outputs": [
    {
     "data": {
      "text/plain": "<subprocess.Popen at 0x7fc820388610>"
     },
     "execution_count": 43,
     "metadata": {},
     "output_type": "execute_result"
    }
   ],
   "source": [
    "cmd = ['bin/makeblastdb', '-parse_seqids', '-dbtype', 'prot', '-in', output_imgt_ref]\n",
    "\n",
    "subprocess.Popen(cmd, stdout=subprocess.PIPE)"
   ],
   "metadata": {
    "collapsed": false,
    "pycharm": {
     "name": "#%%\n"
    }
   }
  },
  {
   "cell_type": "markdown",
   "source": [
    "Repeat the process for other germline sequence database. Create one database for VH, one for VL, one for VK..."
   ],
   "metadata": {
    "collapsed": false,
    "pycharm": {
     "name": "#%% md\n"
    }
   }
  },
  {
   "cell_type": "markdown",
   "source": [
    "# Parse your sequence\n",
    "\n",
    "Details of different parameters and options can be found using:\n",
    "```\n",
    "bin/iglbastp -help\n",
    "bin/igblastn -help\n",
    "```\n",
    "Below is an example output of `bin/igblastp -help`\n",
    "```\n",
    "USAGE\n",
    "  igblastp [-h] [-help] [-germline_db_V germline_database_name]\n",
    "    [-num_alignments_V int_value] [-germline_db_V_seqidlist filename]\n",
    "    [-organism germline_origin] [-domain_system domain_system]\n",
    "    [-ig_seqtype sequence_type] [-focus_on_V_segment] [-extend_align5end]\n",
    "    [-extend_align3end] [-min_V_length Min_V_Length] [-db database_name]\n",
    "    [-dbsize num_letters] [-entrez_query entrez_query] [-query input_file]\n",
    "    [-out output_file] [-evalue evalue] [-word_size int_value]\n",
    "    [-gapopen open_penalty] [-gapextend extend_penalty] [-searchsp int_value]\n",
    "    [-sum_stats bool_value] [-matrix matrix_name] [-threshold float_value]\n",
    "    [-ungapped] [-lcase_masking] [-query_loc range] [-parse_deflines]\n",
    "    [-outfmt format] [-show_gis] [-num_descriptions int_value]\n",
    "    [-num_alignments int_value] [-line_length line_length]\n",
    "    [-num_threads int_value] [-remote] [-version]\n",
    "\n",
    "DESCRIPTION\n",
    "   BLAST for Ig and TCR sequences\n",
    "\n",
    "OPTIONAL ARGUMENTS\n",
    " -h\n",
    "   Print USAGE and DESCRIPTION;  ignore all other parameters\n",
    " -help\n",
    "   Print USAGE, DESCRIPTION and ARGUMENTS; ignore all other parameters\n",
    " -version\n",
    "   Print version number;  ignore other arguments\n",
    "\n",
    " *** Input query options\n",
    " -query <File_In>\n",
    "   Input file name\n",
    "   Default = `-'\n",
    " -query_loc <String>\n",
    "   Location on the query sequence in 1-based offsets (Format: start-stop)\n",
    "\n",
    " *** General search options\n",
    " -db <String>\n",
    "   Optional additional database name\n",
    " -out <File_Out>\n",
    "   Output file name\n",
    "   Default = `-'\n",
    " -evalue <Real>\n",
    "   Expectation value (E) threshold for saving hits\n",
    "   Default = `1'\n",
    " -word_size <Integer, >=2>\n",
    "   Word size for wordfinder algorithm\n",
    " -gapopen <Integer>\n",
    "   Cost to open a gap\n",
    " -gapextend <Integer>\n",
    "   Cost to extend a gap\n",
    " -matrix <String>\n",
    "   Scoring matrix name (normally BLOSUM62)\n",
    " -threshold <Real, >=0>\n",
    "   Minimum word score such that the word is added to the BLAST lookup table\n",
    "\n",
    " *** Formatting options\n",
    " -outfmt <String>\n",
    "   alignment view options:\n",
    "     3 = Flat query-anchored, show identities,\n",
    "     4 = Flat query-anchored, no identities,\n",
    "     7 = Tabular with comment lines\n",
    "     19 = Rearrangement summary report (AIRR format)\n",
    "\n",
    "   Options 7 can be additionally configured to produce\n",
    "   a custom format specified by space delimited format specifiers.\n",
    "   The supported format specifiers are:\n",
    "            qseqid means Query Seq-id\n",
    "               qgi means Query GI\n",
    "              qacc means Query accesion\n",
    "           qaccver means Query accesion.version\n",
    "              qlen means Query sequence length\n",
    "            sseqid means Subject Seq-id\n",
    "         sallseqid means All subject Seq-id(s), separated by a ';'\n",
    "               sgi means Subject GI\n",
    "            sallgi means All subject GIs\n",
    "              sacc means Subject accession\n",
    "           saccver means Subject accession.version\n",
    "           sallacc means All subject accessions\n",
    "              slen means Subject sequence length\n",
    "            qstart means Start of alignment in query\n",
    "              qend means End of alignment in query\n",
    "            sstart means Start of alignment in subject\n",
    "              send means End of alignment in subject\n",
    "              qseq means Aligned part of query sequence\n",
    "              sseq means Aligned part of subject sequence\n",
    "            evalue means Expect value\n",
    "          bitscore means Bit score\n",
    "             score means Raw score\n",
    "            length means Alignment length\n",
    "            pident means Percentage of identical matches\n",
    "            nident means Number of identical matches\n",
    "          mismatch means Number of mismatches\n",
    "          positive means Number of positive-scoring matches\n",
    "           gapopen means Number of gap openings\n",
    "              gaps means Total number of gaps\n",
    "              ppos means Percentage of positive-scoring matches\n",
    "            frames means Query and subject frames separated by a '/'\n",
    "            qframe means Query frame\n",
    "            sframe means Subject frame\n",
    "              btop means Blast traceback operations (BTOP)\n",
    "            staxid means Subject Taxonomy ID\n",
    "          ssciname means Subject Scientific Name\n",
    "          scomname means Subject Common Name\n",
    "        sblastname means Subject Blast Name\n",
    "         sskingdom means Subject Super Kingdom\n",
    "           staxids means unique Subject Taxonomy ID(s), separated by a ';'\n",
    "                         (in numerical order)\n",
    "         sscinames means unique Subject Scientific Name(s), separated by a ';'\n",
    "         scomnames means unique Subject Common Name(s), separated by a ';'\n",
    "        sblastnames means unique Subject Blast Name(s), separated by a ';'\n",
    "                         (in alphabetical order)\n",
    "        sskingdoms means unique Subject Super Kingdom(s), separated by a ';'\n",
    "                         (in alphabetical order)\n",
    "            stitle means Subject Title\n",
    "        salltitles means All Subject Title(s), separated by a '<>'\n",
    "           sstrand means Subject Strand\n",
    "             qcovs means Query Coverage Per Subject\n",
    "           qcovhsp means Query Coverage Per HSP\n",
    "            qcovus means Query Coverage Per Unique Subject (blastn only)\n",
    "   When not provided, the default value is:\n",
    "   'qseqid sseqid pident length mismatch gapopen gaps qstart qend sstart send\n",
    "   evalue bitscore', which is equivalent to the keyword 'std'\n",
    "   Default = `3'\n",
    " -show_gis\n",
    "   Show NCBI GIs in deflines?\n",
    " -num_descriptions <Integer, >=0>\n",
    "   Number of database sequences to show one-line descriptions for\n",
    "   Not applicable for outfmt > 4\n",
    "   Default = `10'\n",
    " -num_alignments <Integer, >=0>\n",
    "   Number of database sequences to show alignments for\n",
    "   Default = `10'\n",
    " -line_length <Integer, >=1>\n",
    "   Line length for formatting alignments\n",
    "   Not applicable for outfmt > 4\n",
    "   Default = `60'\n",
    "\n",
    " *** Query filtering options\n",
    " -lcase_masking\n",
    "   Use lower case filtering in query and subject sequence(s)?\n",
    "\n",
    " *** Restrict search or results\n",
    " -entrez_query <String>\n",
    "   Restrict search with the given Entrez query\n",
    "    * Requires:  remote\n",
    "\n",
    " *** Statistical options\n",
    " -dbsize <Int8>\n",
    "   Effective length of the database\n",
    " -searchsp <Int8, >=0>\n",
    "   Effective length of the search space\n",
    " -sum_stats <Boolean>\n",
    "   Use sum statistics\n",
    "\n",
    " *** Extension options\n",
    " -ungapped\n",
    "   Perform ungapped alignment only?\n",
    "\n",
    " *** Ig-BLAST options\n",
    " -germline_db_V <String>\n",
    "   Germline database name\n",
    " -num_alignments_V <Integer>\n",
    "   Number of Germline sequences to show alignments for\n",
    "   Default = `3'\n",
    " -germline_db_V_seqidlist <String>\n",
    "   Restrict search of germline database to list of SeqIds's\n",
    " -organism <String>\n",
    "   The organism for your query sequence. Supported organisms include human,\n",
    "   mouse, rat, rabbit and rhesus_monkey for Ig and human and mouse for TCR.\n",
    "   Custom organism is also supported but you need to supply your own germline\n",
    "   annotations (see IgBLAST web site for details)\n",
    "   Default = `human'\n",
    " -domain_system <String, `imgt', `kabat'>\n",
    "   Domain system to be used for segment annotation\n",
    "   Default = `imgt'\n",
    " -ig_seqtype <String, `Ig', `TCR'>\n",
    "   Specify Ig or T cell receptor sequence\n",
    "   Default = `Ig'\n",
    " -focus_on_V_segment\n",
    "   Should the search only be for V segment (effective only for non-germline\n",
    "   database search using -db option)?\n",
    " -extend_align5end\n",
    "   Extend V gene alignment at 5' end\n",
    " -extend_align3end\n",
    "   Extend J gene alignment at 3' end\n",
    " -min_V_length <Integer, >=9>\n",
    "   Minimal required V gene length\n",
    "   Default = `9'\n",
    "\n",
    " *** Miscellaneous options\n",
    " -parse_deflines\n",
    "   Should the query and subject defline(s) be parsed?\n",
    " -num_threads <Integer, >=1>\n",
    "   Number of threads (CPUs) to use in the BLAST search\n",
    "   Default = `4'\n",
    "    * Incompatible with:  remote\n",
    " -remote\n",
    "   Execute search remotely?\n",
    "    * Incompatible with:  num_threads\n",
    "```"
   ],
   "metadata": {
    "collapsed": false,
    "pycharm": {
     "name": "#%% md\n"
    }
   }
  },
  {
   "cell_type": "markdown",
   "source": [
    "## Assign path to environment variable `IGDATA`\n",
    "\n",
    "This will help to solve the issue of *[internal_data] cannot be found*. THe `IGDATA` should:\n",
    "1. point to the **bin** folder, not the **internal_data** folder.\n",
    "2. use the full path (e.g. in mac */Users/mightycamole/Desktop/DataScience/Python/Work/igblast/bin*) and NOT a relative path\n",
    "3. The path should not contain any spaces (change your directory name if it does). You might as well avoid `_` and `-` in any of the folder names as well.\n",
    "4. Use the `export` option to assign the environment variable. If you use conda, don't create environment variable inside a specific conda enviroment or modify the envs `state` file. Directly use the `export` option described below.\n",
    "\n",
    "**Method**:\n",
    "Open a terminal at the **igblast** folder. Then type\n",
    "```\n",
    "export IGDATA=/Users/mightycamole/Desktop/DataScience/Python/Work/igblast/bin\n",
    "```\n",
    "Replace the file path with your file path"
   ],
   "metadata": {
    "collapsed": false,
    "pycharm": {
     "name": "#%% md\n"
    }
   }
  },
  {
   "cell_type": "markdown",
   "source": [
    "## Parse your sequence\n",
    "\n",
    "Suppose you have a folder called **test** inside **igblast**. The folder contains Rituximab VH and VL sequence in fasta format.  Below are 3 exmaple output formats:\n",
    "\n",
    "1. In Example 1, we parse query seuqence in terminal.\n",
    "2. In Example 2, the code will parse the closest germline matching hits into pandas dataframe.\n",
    "3. In Example 3, the code will try to determine if a light chain sequence is a kappa or lambda type."
   ],
   "metadata": {
    "collapsed": false,
    "pycharm": {
     "name": "#%% md\n"
    }
   }
  },
  {
   "cell_type": "markdown",
   "source": [
    "### Example 1: `outfm=3` will show alignment"
   ],
   "metadata": {
    "collapsed": false,
    "pycharm": {
     "name": "#%% md\n"
    }
   }
  },
  {
   "cell_type": "markdown",
   "source": [
    "Open a terminal at the **igblast** folder. Then type\n",
    "```\n",
    "bin/igblastp -germline_db_V database/Homo_sapiens_clean/IG_prot/IGHV_clean -query test/Rituximab-VH.fasta -organism human -outfmt 3\n",
    "```\n",
    "Example output\n",
    "```\n",
    "Database: database/Homo_sapiens_clean/IG_prot/IGHV_clean\n",
    "           409 sequences; 39,563 total letters\n",
    "\n",
    "\n",
    "\n",
    "Query= Rituximab VH\n",
    "\n",
    "Length=451\n",
    "                                                                                                      Score     E\n",
    "Sequences producing significant alignments:                                                          (Bits)  Value\n",
    "\n",
    "IGHV1-46*01 unnamed protein product                                                                   152     1e-47\n",
    "IGHV1-46*03 unnamed protein product                                                                   152     1e-47\n",
    "IGHV1-3*01 unnamed protein product                                                                    151     2e-47\n",
    "\n",
    "\n",
    "Domain classification requested: imgt\n",
    "\n",
    "\n",
    "Alignment summary between query and top germline V gene hit (from, to, length, matches, mismatches, gaps, percent identity)\n",
    "FR1-IMGT        1       25      25      20      5       0       80\n",
    "CDR1-IMGT       26      33      8       7       1       0       87.5\n",
    "FR2-IMGT        34      50      17      12      5       0       70.6\n",
    "CDR2-IMGT       51      58      8       4       4       0       50\n",
    "FR3-IMGT        59      96      38      26      12      0       68.4\n",
    "CDR3-IMGT (germline)    97      98      2       2       0       0       100\n",
    "Total   N/A     N/A     98      71      27      0       72.4\n",
    "\n",
    "\n",
    "Alignments\n",
    "\n",
    "                                   <-------FR1-IMGT--------><CDR1-I><---FR2-IMGT----><CDR2-I><--------------FR3-IMGT---------\n",
    "                  Query_1      1   QVQLQQPGAELVKPGASVKMSCKASGYTFTSYNMHWVKQTPGRGLEWIGAIYPGNGDTSYNQKFKGKATLTADKSSSTAYMQLSSLTSED  90\n",
    "V  72.4% (71/98)  IGHV1-46*01  1   ....V.S...VK.......V............Y....R.A..Q....M.I.N.SG.S...A...Q.RV.M.R.T.T..V..E....R...  90\n",
    "V  72.4% (71/98)  IGHV1-46*03  1   ....V.S...VK.......V............Y....R.A..Q....M.I.N.SG.S...A...Q.RV.M.R.T.T..V..E....R...  90\n",
    "V  72.4% (71/98)  IGHV1-3*01   1   ....V.S...VK.......V............A....R.A..QR...M.W.NA...N.K.S...Q.RV.I.R.T.A.....E....R...  90\n",
    "\n",
    "                                   ----->\n",
    "                  Query_1      91  SAVYYCAR  98\n",
    "V  72.4% (71/98)  IGHV1-46*01  91  T.......  98\n",
    "V  72.4% (71/98)  IGHV1-46*03  91  T.......  98\n",
    "V  72.4% (71/98)  IGHV1-3*01   91  T.......  98\n",
    "\n",
    "\n",
    "Lambda      K        H        a         alpha\n",
    "   0.312    0.128    0.393    0.792     4.96\n",
    "\n",
    "Gapped\n",
    "Lambda      K        H        a         alpha    sigma\n",
    "   0.267   0.0410    0.140     1.90     42.6     43.6\n",
    "\n",
    "Effective search space used: 6225513\n",
    "\n",
    "\n",
    "  Database: database/Homo_sapiens_clean/IG_prot/IGHV_clean\n",
    "    Posted date:  Jan 8, 2021  10:56 PM\n",
    "  Number of letters in database: 39,563\n",
    "  Number of sequences in database:  409\n",
    "\n",
    "\n",
    "\n",
    "Matrix: BLOSUM62\n",
    "Gap Penalties: Existence: 11, Extension: 1\n",
    "Neighboring words threshold: 11\n",
    "Window for multiple hits: 40\n",
    "\n",
    "```"
   ],
   "metadata": {
    "collapsed": false,
    "pycharm": {
     "name": "#%% md\n"
    }
   }
  },
  {
   "cell_type": "markdown",
   "source": [
    "### Example 2: `outfm=7` does not show alignment. However we can extract the hits table into a pandas dataframe\n",
    "\n",
    "The example below is a function that parses the hits table from blastp `bin/igblastp` into pandas dataframe, using an user-defined `-germline_db_V` database.  Hits are germline sequences that have highest identity % to the query sequence."
   ],
   "metadata": {
    "collapsed": false,
    "pycharm": {
     "name": "#%% md\n"
    }
   }
  },
  {
   "cell_type": "code",
   "execution_count": 119,
   "outputs": [],
   "source": [
    "def blastp_get_top_hits_v(input_fp, db_fp, organism='human', debug = True):\n",
    "    \"\"\"\n",
    "    Function that parses the hits table from blastp (bin/igblastp) into pandas dataframe. The hits table shows the top 3 hits (default) of the germline seuqences that are with highest identity % to the query seuqence.\n",
    "    :param input_fp: string, file path of the input fasta file\n",
    "    :param db_fp:  string, file path of the serach database, i.e. the value for `-germline_db_V` argument\n",
    "    :param organism: string, optimal, default = human\n",
    "    :param debug: bool, optional, default = True. If True, it will print the raw data from cmd (before parsing into dataframe)\n",
    "    :return: a tuple of (df, the best matching germline allele name, the best matching germline allele identity score)\n",
    "    \"\"\"\n",
    "\n",
    "    # igblastp can only search V database\n",
    "    cmd = ['bin/igblastp', '-germline_db_V', db_fp, '-query', input_fp, '-organism', organism, '-outfmt', '7']\n",
    "\n",
    "    a = subprocess.Popen(cmd, stdout=subprocess.PIPE)\n",
    "\n",
    "    # show output in notebook\n",
    "    #a.wait()\n",
    "    #output = a.stdout.readlines()\n",
    "    #print(output)\n",
    "\n",
    "    # parse output into string\n",
    "    b = StringIO(a.communicate()[0].decode('utf-8'))\n",
    "    all_data = [x.strip() for x in str(b.getvalue()).split('#')]\n",
    "    if debug:\n",
    "        print(all_data)\n",
    "\n",
    "    # the hit table is the 2nd from the last in the list above.\n",
    "    hits = all_data[-2].split('\\n')[1:]\n",
    "\n",
    "    # default fields\n",
    "    fields = 'chain type\\tquery id\\tsubject id\\t% identity\\talignment length\\tmismatches\\tgap opens\\tgaps\\tq.start\\tq.ends\\t s.start\\ts.end\\tevalue\\tbit score'\n",
    "\n",
    "    # add col header\n",
    "    hits.insert(0, fields)\n",
    "    # parse into df\n",
    "    data = StringIO('\\n'.join(hits))\n",
    "    df = pd.read_csv(data, sep='\\t')\n",
    "\n",
    "    # get df, the best matching germline allele & identity\n",
    "    return df, df['subject id'][0], df['% identity'][0]"
   ],
   "metadata": {
    "collapsed": false,
    "pycharm": {
     "name": "#%%\n"
    }
   }
  },
  {
   "cell_type": "code",
   "execution_count": 120,
   "outputs": [
    {
     "name": "stdout",
     "output_type": "stream",
     "text": [
      "['', 'IGBLASTP', 'Query: Rituximab VH', 'Database: database/Homo_sapiens_clean/IG_prot/IGHV_clean', 'Domain classification requested: imgt', 'Alignment summary between query and top germline V gene hit (from, to, length, matches, mismatches, gaps, percent identity)\\nFR1-IMGT\\t1\\t25\\t25\\t20\\t5\\t0\\t80\\nCDR1-IMGT\\t26\\t33\\t8\\t7\\t1\\t0\\t87.5\\nFR2-IMGT\\t34\\t50\\t17\\t12\\t5\\t0\\t70.6\\nCDR2-IMGT\\t51\\t58\\t8\\t4\\t4\\t0\\t50\\nFR3-IMGT\\t59\\t96\\t38\\t26\\t12\\t0\\t68.4\\nCDR3-IMGT (germline)\\t97\\t98\\t2\\t2\\t0\\t0\\t100\\nTotal\\tN/A\\tN/A\\t98\\t71\\t27\\t0\\t72.4', 'Hit table (the first field indicates the chain type of the hit)', 'Fields: query id, subject id, % identity, alignment length, mismatches, gap opens, gaps, q. start, q. end, s. start, s. end, evalue, bit score', '3 hits found\\nV\\tRituximab\\tIGHV1-46*01\\t72.449\\t98\\t27\\t0\\t0\\t1\\t98\\t1\\t98\\t1.01e-47\\t152\\nV\\tRituximab\\tIGHV1-46*03\\t72.449\\t98\\t27\\t0\\t0\\t1\\t98\\t1\\t98\\t1.01e-47\\t152\\nV\\tRituximab\\tIGHV1-3*01\\t72.449\\t98\\t27\\t0\\t0\\t1\\t98\\t1\\t98\\t1.98e-47\\t151', 'BLAST processed 1 queries']\n",
      "best match germline:  IGHV1-46*01\n",
      "identity %:  72.449\n"
     ]
    },
    {
     "data": {
      "text/plain": "  chain type   query id   subject id  % identity  alignment length  \\\n0          V  Rituximab  IGHV1-46*01      72.449                98   \n1          V  Rituximab  IGHV1-46*03      72.449                98   \n2          V  Rituximab   IGHV1-3*01      72.449                98   \n\n   mismatches  gap opens  gaps  q.start  q.ends   s.start  s.end  \\\n0          27          0     0        1      98         1     98   \n1          27          0     0        1      98         1     98   \n2          27          0     0        1      98         1     98   \n\n         evalue  bit score  \n0  1.010000e-47        152  \n1  1.010000e-47        152  \n2  1.980000e-47        151  ",
      "text/html": "<div>\n<style scoped>\n    .dataframe tbody tr th:only-of-type {\n        vertical-align: middle;\n    }\n\n    .dataframe tbody tr th {\n        vertical-align: top;\n    }\n\n    .dataframe thead th {\n        text-align: right;\n    }\n</style>\n<table border=\"1\" class=\"dataframe\">\n  <thead>\n    <tr style=\"text-align: right;\">\n      <th></th>\n      <th>chain type</th>\n      <th>query id</th>\n      <th>subject id</th>\n      <th>% identity</th>\n      <th>alignment length</th>\n      <th>mismatches</th>\n      <th>gap opens</th>\n      <th>gaps</th>\n      <th>q.start</th>\n      <th>q.ends</th>\n      <th>s.start</th>\n      <th>s.end</th>\n      <th>evalue</th>\n      <th>bit score</th>\n    </tr>\n  </thead>\n  <tbody>\n    <tr>\n      <th>0</th>\n      <td>V</td>\n      <td>Rituximab</td>\n      <td>IGHV1-46*01</td>\n      <td>72.449</td>\n      <td>98</td>\n      <td>27</td>\n      <td>0</td>\n      <td>0</td>\n      <td>1</td>\n      <td>98</td>\n      <td>1</td>\n      <td>98</td>\n      <td>1.010000e-47</td>\n      <td>152</td>\n    </tr>\n    <tr>\n      <th>1</th>\n      <td>V</td>\n      <td>Rituximab</td>\n      <td>IGHV1-46*03</td>\n      <td>72.449</td>\n      <td>98</td>\n      <td>27</td>\n      <td>0</td>\n      <td>0</td>\n      <td>1</td>\n      <td>98</td>\n      <td>1</td>\n      <td>98</td>\n      <td>1.010000e-47</td>\n      <td>152</td>\n    </tr>\n    <tr>\n      <th>2</th>\n      <td>V</td>\n      <td>Rituximab</td>\n      <td>IGHV1-3*01</td>\n      <td>72.449</td>\n      <td>98</td>\n      <td>27</td>\n      <td>0</td>\n      <td>0</td>\n      <td>1</td>\n      <td>98</td>\n      <td>1</td>\n      <td>98</td>\n      <td>1.980000e-47</td>\n      <td>151</td>\n    </tr>\n  </tbody>\n</table>\n</div>"
     },
     "execution_count": 120,
     "metadata": {},
     "output_type": "execute_result"
    }
   ],
   "source": [
    "# calling the function\n",
    "df, top_germ_allele, top_identity = blastp_get_top_hits_v(\n",
    "    input_fp = 'test/Rituximab-VH.fasta',\n",
    "    db_fp= 'database/Homo_sapiens_clean/IG_prot/IGHV_clean'\n",
    ")\n",
    "\n",
    "print('best match germline: ', top_germ_allele)\n",
    "print('identity %: ', top_identity)\n",
    "df"
   ],
   "metadata": {
    "collapsed": false,
    "pycharm": {
     "name": "#%%\n"
    }
   }
  },
  {
   "cell_type": "markdown",
   "source": [
    "### Example 3: Parse light chain and determine if it's Kappa or Lambda\n",
    "\n",
    "Human light chain can be either kappa or lambda, and we need to parse both kappa and lambda database to see which one yields higher identity score.\n",
    "\n",
    "Note that you can use the same function to determine if a humanized VH (or VL) sequence is more similar to human germline seq or the germline seq from a different sepecies. The idea of the `blastp_multiple_hits_v` function is that it takes a list of database, retrieve the hits table (each hits table has the top 3 matching germ seqs), and rank the hits by their identity score from high to low."
   ],
   "metadata": {
    "collapsed": false,
    "pycharm": {
     "name": "#%% md\n"
    }
   }
  },
  {
   "cell_type": "code",
   "execution_count": 114,
   "outputs": [],
   "source": [
    "def blastp_multiple_hits_v(input_fp, db_lst, organism='human', debug=True):\n",
    "    \"\"\"\n",
    "    Function that parses the hits table from blastp (bin/igblastp) into pandas dataframe. The hits table shows the top 3 hits (default) of the germline seuqences that are with highest identity % to the query seuqence. Hits table from different databse are concatenated and sorted by identity score from high to low. This function is useful when trying to determine if a light chain is lambda or kappa, or if a humanized VH (or VL) sequence is more similar to human germline seq or the germline seq from a different sepecies.\n",
    "    :param input_fp: str, input fasta file path\n",
    "    :param db_lst: str, db file path\n",
    "    :param organism: str, optional, default = 'human'\n",
    "    :param debug: bool, optional, default = True. If True, it will print the raw data from cmd (before parsing into dataframe)\n",
    "    :return: a tuple of (concatentated df, the best matching germline allele name, the best matching germline allele identity score)\n",
    "    \"\"\"\n",
    "\n",
    "    if len(db_lst) <=1:\n",
    "        raise  Exception('V-region database must be suppplied as a list of strings to the arguemnt `db_lst`, such as db_lst = [\"path_to_db1\", \"path_to_db2\"]`. If you have 1 database, use `blastp_get_top_hits_v` instead')\n",
    "    else:\n",
    "        try:\n",
    "            # list of database names and hits datafrmaes\n",
    "            db_name_lst, df_lst = [], []\n",
    "\n",
    "            for db in db_lst:\n",
    "                df, _, _ = blastp_get_top_hits_v(\n",
    "                    input_fp = input_fp,\n",
    "                    db_fp=db,\n",
    "                    organism=organism,\n",
    "                    debug = debug\n",
    "                )\n",
    "                df_lst.append(df)\n",
    "                db_name_lst += [db.split('/')[-1]] * df.shape[0]\n",
    "\n",
    "            # concat dfs and sort\n",
    "            df = pd.concat(df_lst, axis=0).reset_index()\n",
    "            df['db'] = db_name_lst # add col for database name\n",
    "            df.sort_values(by = '% identity', ascending=False) # sort desc\n",
    "\n",
    "            # return sorted df, the best matching germline allele name, the best matching germline allele identity score\n",
    "            return df, df['subject id'][0], df['% identity'][0]\n",
    "\n",
    "        except:\n",
    "            print('An exception occured. Check your input file path and database file path. Try first parsing each database separately using `blastp_get_top_hits_v` function first to make sure you have the correct paths')"
   ],
   "metadata": {
    "collapsed": false,
    "pycharm": {
     "name": "#%%\n"
    }
   }
  },
  {
   "cell_type": "code",
   "execution_count": 118,
   "outputs": [
    {
     "name": "stdout",
     "output_type": "stream",
     "text": [
      "['', 'IGBLASTP', 'Query: Rituximab VL', 'Database: database/Homo_sapiens_clean/IG_prot/IGKV_clean', 'Domain classification requested: imgt', 'Alignment summary between query and top germline V gene hit (from, to, length, matches, mismatches, gaps, percent identity)\\nFR1-IMGT\\t1\\t26\\t26\\t17\\t9\\t0\\t65.4\\nCDR1-IMGT\\t27\\t31\\t7\\t4\\t1\\t2\\t57.1\\nFR2-IMGT\\t32\\t48\\t17\\t9\\t8\\t0\\t52.9\\nCDR2-IMGT\\t49\\t51\\t3\\t1\\t2\\t0\\t33.3\\nFR3-IMGT\\t52\\t87\\t36\\t24\\t12\\t0\\t66.7\\nCDR3-IMGT (germline)\\t88\\t94\\t7\\t4\\t3\\t0\\t57.1\\nTotal\\tN/A\\tN/A\\t96\\t59\\t35\\t2\\t61.5', 'Hit table (the first field indicates the chain type of the hit)', 'Fields: query id, subject id, % identity, alignment length, mismatches, gap opens, gaps, q. start, q. end, s. start, s. end, evalue, bit score', '3 hits found\\nV\\tRituximab\\tIGKV3-20*01\\t61.458\\t96\\t35\\t1\\t2\\t1\\t94\\t1\\t96\\t5.04e-40\\t124\\nV\\tRituximab\\tIGKV1-16*01\\t63.830\\t94\\t33\\t1\\t1\\t2\\t94\\t2\\t95\\t6.92e-40\\t124\\nV\\tRituximab\\tIGKV1-16*02\\t62.766\\t94\\t34\\t1\\t1\\t2\\t94\\t2\\t95\\t1.96e-39\\t122', 'BLAST processed 1 queries']\n",
      "['', 'IGBLASTP', 'Query: Rituximab VL', 'Database: database/Homo_sapiens_clean/IG_prot/IGLV_clean', 'Domain classification requested: imgt', 'Alignment summary between query and top germline V gene hit (from, to, length, matches, mismatches, gaps, percent identity)\\nFR1-IMGT\\t1\\t26\\t24\\t11\\t12\\t1\\t45.8\\nCDR1-IMGT\\t27\\t31\\t8\\t3\\t2\\t3\\t37.5\\nFR2-IMGT\\t32\\t48\\t18\\t10\\t7\\t1\\t55.6\\nCDR2-IMGT\\t49\\t51\\t3\\t1\\t2\\t0\\t33.3\\nFR3-IMGT\\t52\\t87\\t36\\t24\\t12\\t0\\t66.7\\nCDR3-IMGT (germline)\\t88\\t93\\t6\\t2\\t4\\t0\\t33.3\\nTotal\\tN/A\\tN/A\\t95\\t51\\t39\\t5\\t53.7', 'Hit table (the first field indicates the chain type of the hit)', 'Fields: query id, subject id, % identity, alignment length, mismatches, gap opens, gaps, q. start, q. end, s. start, s. end, evalue, bit score', '3 hits found\\nV\\tRituximab\\tIGLV1-40*01\\t53.608\\t97\\t40\\t3\\t5\\t1\\t93\\t1\\t96\\t4.25e-30\\t99.0\\nV\\tRituximab\\tIGLV1-40*02\\t52.577\\t97\\t41\\t3\\t5\\t1\\t93\\t1\\t96\\t1.19e-29\\t97.8\\nV\\tRituximab\\tIGLV1-50*01\\t50.515\\t97\\t43\\t3\\t5\\t1\\t93\\t1\\t96\\t3.36e-29\\t96.7', 'BLAST processed 1 queries']\n",
      "best match germline:  IGKV3-20*01\n",
      "identity %:  61.458\n"
     ]
    },
    {
     "data": {
      "text/plain": "   index chain type   query id   subject id  % identity  alignment length  \\\n0      0          V  Rituximab  IGKV3-20*01      61.458                96   \n1      1          V  Rituximab  IGKV1-16*01      63.830                94   \n2      2          V  Rituximab  IGKV1-16*02      62.766                94   \n3      0          V  Rituximab  IGLV1-40*01      53.608                97   \n4      1          V  Rituximab  IGLV1-40*02      52.577                97   \n5      2          V  Rituximab  IGLV1-50*01      50.515                97   \n\n   mismatches  gap opens  gaps  q.start  q.ends   s.start  s.end  \\\n0          35          1     2        1      94         1     96   \n1          33          1     1        2      94         2     95   \n2          34          1     1        2      94         2     95   \n3          40          3     5        1      93         1     96   \n4          41          3     5        1      93         1     96   \n5          43          3     5        1      93         1     96   \n\n         evalue  bit score          db  \n0  5.040000e-40      124.0  IGKV_clean  \n1  6.920000e-40      124.0  IGKV_clean  \n2  1.960000e-39      122.0  IGKV_clean  \n3  4.250000e-30       99.0  IGLV_clean  \n4  1.190000e-29       97.8  IGLV_clean  \n5  3.360000e-29       96.7  IGLV_clean  ",
      "text/html": "<div>\n<style scoped>\n    .dataframe tbody tr th:only-of-type {\n        vertical-align: middle;\n    }\n\n    .dataframe tbody tr th {\n        vertical-align: top;\n    }\n\n    .dataframe thead th {\n        text-align: right;\n    }\n</style>\n<table border=\"1\" class=\"dataframe\">\n  <thead>\n    <tr style=\"text-align: right;\">\n      <th></th>\n      <th>index</th>\n      <th>chain type</th>\n      <th>query id</th>\n      <th>subject id</th>\n      <th>% identity</th>\n      <th>alignment length</th>\n      <th>mismatches</th>\n      <th>gap opens</th>\n      <th>gaps</th>\n      <th>q.start</th>\n      <th>q.ends</th>\n      <th>s.start</th>\n      <th>s.end</th>\n      <th>evalue</th>\n      <th>bit score</th>\n      <th>db</th>\n    </tr>\n  </thead>\n  <tbody>\n    <tr>\n      <th>0</th>\n      <td>0</td>\n      <td>V</td>\n      <td>Rituximab</td>\n      <td>IGKV3-20*01</td>\n      <td>61.458</td>\n      <td>96</td>\n      <td>35</td>\n      <td>1</td>\n      <td>2</td>\n      <td>1</td>\n      <td>94</td>\n      <td>1</td>\n      <td>96</td>\n      <td>5.040000e-40</td>\n      <td>124.0</td>\n      <td>IGKV_clean</td>\n    </tr>\n    <tr>\n      <th>1</th>\n      <td>1</td>\n      <td>V</td>\n      <td>Rituximab</td>\n      <td>IGKV1-16*01</td>\n      <td>63.830</td>\n      <td>94</td>\n      <td>33</td>\n      <td>1</td>\n      <td>1</td>\n      <td>2</td>\n      <td>94</td>\n      <td>2</td>\n      <td>95</td>\n      <td>6.920000e-40</td>\n      <td>124.0</td>\n      <td>IGKV_clean</td>\n    </tr>\n    <tr>\n      <th>2</th>\n      <td>2</td>\n      <td>V</td>\n      <td>Rituximab</td>\n      <td>IGKV1-16*02</td>\n      <td>62.766</td>\n      <td>94</td>\n      <td>34</td>\n      <td>1</td>\n      <td>1</td>\n      <td>2</td>\n      <td>94</td>\n      <td>2</td>\n      <td>95</td>\n      <td>1.960000e-39</td>\n      <td>122.0</td>\n      <td>IGKV_clean</td>\n    </tr>\n    <tr>\n      <th>3</th>\n      <td>0</td>\n      <td>V</td>\n      <td>Rituximab</td>\n      <td>IGLV1-40*01</td>\n      <td>53.608</td>\n      <td>97</td>\n      <td>40</td>\n      <td>3</td>\n      <td>5</td>\n      <td>1</td>\n      <td>93</td>\n      <td>1</td>\n      <td>96</td>\n      <td>4.250000e-30</td>\n      <td>99.0</td>\n      <td>IGLV_clean</td>\n    </tr>\n    <tr>\n      <th>4</th>\n      <td>1</td>\n      <td>V</td>\n      <td>Rituximab</td>\n      <td>IGLV1-40*02</td>\n      <td>52.577</td>\n      <td>97</td>\n      <td>41</td>\n      <td>3</td>\n      <td>5</td>\n      <td>1</td>\n      <td>93</td>\n      <td>1</td>\n      <td>96</td>\n      <td>1.190000e-29</td>\n      <td>97.8</td>\n      <td>IGLV_clean</td>\n    </tr>\n    <tr>\n      <th>5</th>\n      <td>2</td>\n      <td>V</td>\n      <td>Rituximab</td>\n      <td>IGLV1-50*01</td>\n      <td>50.515</td>\n      <td>97</td>\n      <td>43</td>\n      <td>3</td>\n      <td>5</td>\n      <td>1</td>\n      <td>93</td>\n      <td>1</td>\n      <td>96</td>\n      <td>3.360000e-29</td>\n      <td>96.7</td>\n      <td>IGLV_clean</td>\n    </tr>\n  </tbody>\n</table>\n</div>"
     },
     "execution_count": 118,
     "metadata": {},
     "output_type": "execute_result"
    }
   ],
   "source": [
    "# calling the function\n",
    "df, top_germ_allele, top_identity = blastp_multiple_hits_v(\n",
    "    input_fp = 'test/Rituximab-VL.fasta',\n",
    "    db_lst= ['database/Homo_sapiens_clean/IG_prot/IGKV_clean','database/Homo_sapiens_clean/IG_prot/IGLV_clean']\n",
    ")\n",
    "\n",
    "print('best match germline: ', top_germ_allele)\n",
    "print('identity %: ', top_identity)\n",
    "df"
   ],
   "metadata": {
    "collapsed": false,
    "pycharm": {
     "name": "#%%\n"
    }
   }
  },
  {
   "cell_type": "code",
   "execution_count": null,
   "outputs": [],
   "source": [],
   "metadata": {
    "collapsed": false,
    "pycharm": {
     "name": "#%%\n"
    }
   }
  }
 ],
 "metadata": {
  "kernelspec": {
   "name": "python3",
   "language": "python",
   "display_name": "Python 3"
  },
  "language_info": {
   "codemirror_mode": {
    "name": "ipython",
    "version": 2
   },
   "file_extension": ".py",
   "mimetype": "text/x-python",
   "name": "python",
   "nbconvert_exporter": "python",
   "pygments_lexer": "ipython2",
   "version": "2.7.6"
  }
 },
 "nbformat": 4,
 "nbformat_minor": 0
}